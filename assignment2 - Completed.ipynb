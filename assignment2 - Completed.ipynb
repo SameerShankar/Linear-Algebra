{
 "cells": [
  {
   "cell_type": "markdown",
   "metadata": {},
   "source": [
    "# Assignment 2\n",
    "*Topics: condition number, polynomial interpolation, plotting with python*\n",
    "\n",
    "For details on how to upload your notebook back to canvas, check the canvas homepage for a quick tutorial. For additional help with the jupyter workflow and python in general, attend an office hour at 6pm PST on Wednesday.\n",
    "\n",
    "*All norms in this assignment are with respect to the 2-norm.*"
   ]
  },
  {
   "cell_type": "code",
   "execution_count": 133,
   "metadata": {},
   "outputs": [],
   "source": [
    "import numpy as np\n",
    "import scipy.linalg as la\n",
    "import matplotlib.pyplot as plt\n",
    "import math"
   ]
  },
  {
   "cell_type": "markdown",
   "metadata": {},
   "source": [
    "**Exercise 1(a)**\n",
    "\n",
    "Let $A$ and $B$ be matrices with \n",
    "\n",
    "$$ A = \\begin{pmatrix} 1 & 2 & - 2 \\\\ 2 & -4 & 7 \\\\ 5 & -2 & -6 \\end{pmatrix}, \\quad B = \\begin{pmatrix} 1 & 0 & 2 \\\\ 9 & - 10 & 1 \\\\ 6 & -7 & 0 \\end{pmatrix} .$$\n",
    "\n",
    "Find the condition number of the two matrices. Assign the variable CONDA the value of cond$(A)$ and CONDB the value of cond$(B)$. The function call np.linalg.cond(A) returns the condition number of a matrix with respect to the 2-norm. Use this function. "
   ]
  },
  {
   "cell_type": "code",
   "execution_count": 134,
   "metadata": {
    "deletable": false,
    "nbgrader": {
     "cell_type": "code",
     "checksum": "b29cb7b1fc9fd9153f3a17374dfe6530",
     "grade": false,
     "grade_id": "cell-8aa3e7354bc4874c",
     "locked": false,
     "schema_version": 3,
     "solution": true,
     "task": false
    }
   },
   "outputs": [],
   "source": [
    "# YOUR CODE HERE\n",
    "\n",
    "A = np.array([[1,2,-2],[2,-4,7],[5,-2,-6]])\n",
    "B = np.array([[1,0,2],[9,-10,1],[6,-7,0]])\n",
    "\n",
    "CONDA = np.linalg.cond(A)\n",
    "CONDB = np.linalg.cond(B)\n",
    "\n",
    "#print (CONDA)\n",
    "#print (CONDB)"
   ]
  },
  {
   "cell_type": "code",
   "execution_count": 135,
   "metadata": {
    "deletable": false,
    "editable": false,
    "nbgrader": {
     "cell_type": "code",
     "checksum": "215f061f7cab1870b17b04019a728ad6",
     "grade": true,
     "grade_id": "cell-b990b4ea5806e4a9",
     "locked": true,
     "points": 2,
     "schema_version": 3,
     "solution": false,
     "task": false
    }
   },
   "outputs": [
    {
     "name": "stdout",
     "output_type": "stream",
     "text": [
      "Checkpoint 1.1 passed\n"
     ]
    }
   ],
   "source": [
    "assert isinstance(CONDA,float), \"Make sure to assign the variable CONDA\"\n",
    "print(\"Checkpoint 1.1 passed\")\n"
   ]
  },
  {
   "cell_type": "markdown",
   "metadata": {},
   "source": [
    "**Exercise 1(b)**\n",
    "\n",
    "Recall the error bound for a nonsingular linear system $Ax = b$. A small change in $b$ results in a change in $x$ depending on the condition number. Precisely, if $A(x + \\Delta x) = b + \\Delta b$ then\n",
    "\n",
    "$$ \\frac{ \\| \\Delta x \\|}{\\|x \\|} \\leq \\text{cond}(A)  \\frac{ \\| \\Delta b \\|}{\\|b \\|} .$$\n",
    "\n",
    "\n",
    "Let $b$ be the vector\n",
    "\n",
    "$$ b = \\begin{pmatrix} 4 \\\\ -1 \\\\ 5 \\end{pmatrix}.$$\n",
    "\n",
    "Let $x$ be the solution to $Ax = b$, where matrix $A$ is as in Exercise 1(a). If $b$ is perturbed by an error $\\Delta b$ such that $\\| \\Delta b \\| \\leq 0.5 $ determine an upper bound on the norm of $\\| \\Delta x\\|$, where $A(x + \\Delta x) = b + \\Delta b$. Assign your answer to the variable $DELTAX$. Use the function np.linalg.norm(v) or la.norm(v) to find the 2-norm of a vector (or matrix) v. \n",
    "\n",
    "\n",
    "\n",
    "\n"
   ]
  },
  {
   "cell_type": "code",
   "execution_count": 136,
   "metadata": {
    "deletable": false,
    "nbgrader": {
     "cell_type": "code",
     "checksum": "95469a0e020bb640a48733cc663391c1",
     "grade": false,
     "grade_id": "cell-007f1ec35d648d28",
     "locked": false,
     "schema_version": 3,
     "solution": true,
     "task": false
    }
   },
   "outputs": [],
   "source": [
    "# YOUR CODE HERE\n",
    "b = np.array([[4],[-1],[5]])\n",
    "x = la.solve(A,b)\n",
    "\n",
    "DELTAX=(CONDA*0.5*(np.linalg.norm(x)))/np.linalg.norm(b)\n",
    "#print(DELTAX)"
   ]
  },
  {
   "cell_type": "code",
   "execution_count": 137,
   "metadata": {
    "deletable": false,
    "editable": false,
    "nbgrader": {
     "cell_type": "code",
     "checksum": "cec029f000c7434e059fcdc3d6ab4594",
     "grade": true,
     "grade_id": "cell-342e555fd13a0f9b",
     "locked": true,
     "points": 2,
     "schema_version": 3,
     "solution": false,
     "task": false
    }
   },
   "outputs": [
    {
     "name": "stdout",
     "output_type": "stream",
     "text": [
      "Checkpoint 1.4 passed\n"
     ]
    }
   ],
   "source": [
    "assert isinstance(DELTAX,float), \"Make sure you assign DELTAX, use the right functions!\"\n",
    "print(\"Checkpoint 1.4 passed\")\n"
   ]
  },
  {
   "cell_type": "markdown",
   "metadata": {},
   "source": [
    "**Exercise 1(c)**\n",
    "\n",
    "Do the same as in 1(b), except with matrix B instead of matrix A. \n",
    "\n",
    "Let $y$ be the solution to $By = b$ with vector $b$ as in Exercise 1(b). If $b$ is perturbed by an error $\\Delta b$ such that $\\| \\Delta b \\| \\leq 0.5 $ determine an upper bound on the norm of $\\| \\Delta y\\|$, where $A(y + \\Delta y) = b + \\Delta b$. Assign your answer to the variable $DELTAY$. Use the function np.linalg.norm(v) or la.norm(v) to find the 2-norm of a vector (or matrix) v. \n",
    "\n",
    "Helpful remark: You should find that the error induced by the matrix with the larger condition number gives a much larger size of error. \n",
    "\n"
   ]
  },
  {
   "cell_type": "code",
   "execution_count": 138,
   "metadata": {
    "deletable": false,
    "nbgrader": {
     "cell_type": "code",
     "checksum": "de3fa625dff2a526307e574f1017692e",
     "grade": false,
     "grade_id": "cell-c4a4aa17dfb1fbb6",
     "locked": false,
     "schema_version": 3,
     "solution": true,
     "task": false
    }
   },
   "outputs": [],
   "source": [
    "# YOUR CODE HERE\n",
    "y = la.solve(B,b)\n",
    "DELTAY=(CONDB*0.5*(np.linalg.norm(y)))/np.linalg.norm(b)\n",
    "\n",
    "#print(DELTAY)"
   ]
  },
  {
   "cell_type": "code",
   "execution_count": 139,
   "metadata": {
    "deletable": false,
    "editable": false,
    "nbgrader": {
     "cell_type": "code",
     "checksum": "bc52789a2fa67c21356512ead4549bcf",
     "grade": true,
     "grade_id": "cell-eb748ba928ca4a78",
     "locked": true,
     "points": 2,
     "schema_version": 3,
     "solution": false,
     "task": false
    }
   },
   "outputs": [
    {
     "name": "stdout",
     "output_type": "stream",
     "text": [
      "Hidden tests here\n"
     ]
    }
   ],
   "source": [
    "print('Hidden tests here')\n"
   ]
  },
  {
   "cell_type": "markdown",
   "metadata": {},
   "source": [
    "**Exercise 1(d)**\n",
    "\n",
    "In Exercise 1(b) and 1(c) we obtained a bound on the error  $\\| \\Delta x\\|$. Lets compute the size of an error term for a particular $\\Delta b$. Let \n",
    "\n",
    "$$ \\Delta b = \\frac{1}{2\\sqrt{3}}\\begin{pmatrix} 1 \\\\ -1 \\\\ 1 \\end{pmatrix}.$$\n",
    "\n",
    "If $A(x + \\Delta x) = b + \\Delta b$, where $Ax = b$ and $A,b,\\Delta b$ are all defined above, determine $\\Delta x$. Record your answer as the variable DX0 where DX0 has the value $\\| \\Delta x\\|$, where the norm is the 2-norm. \n",
    "\n",
    "\n"
   ]
  },
  {
   "cell_type": "code",
   "execution_count": 140,
   "metadata": {
    "deletable": false,
    "nbgrader": {
     "cell_type": "code",
     "checksum": "87036ed382a92a4a88f3134184293333",
     "grade": false,
     "grade_id": "cell-2d0183c4df1a8505",
     "locked": false,
     "schema_version": 3,
     "solution": true,
     "task": false
    }
   },
   "outputs": [],
   "source": [
    "# YOUR CODE HERE\n",
    "Ainv = np.linalg.inv(A)\n",
    "deltab = np.array([[(1/(2*math.sqrt(3)))],[-(1/(2*math.sqrt(3)))],[(1/(2*math.sqrt(3)))]])\n",
    "\n",
    "m = Ainv@deltab\n",
    "DX0 = np.linalg.norm(m)\n",
    "#print(DX0)"
   ]
  },
  {
   "cell_type": "code",
   "execution_count": 141,
   "metadata": {
    "deletable": false,
    "editable": false,
    "nbgrader": {
     "cell_type": "code",
     "checksum": "6c74a37130b13f6506c9f54c4789e0ff",
     "grade": true,
     "grade_id": "cell-8a6091947b4b4277",
     "locked": true,
     "points": 1,
     "schema_version": 3,
     "solution": false,
     "task": false
    }
   },
   "outputs": [
    {
     "name": "stdout",
     "output_type": "stream",
     "text": [
      "Checkpoint 1.6 passed\n"
     ]
    }
   ],
   "source": [
    "assert isinstance(DX0,float), \"Check that DX0 is the norm of a vector.\"\n",
    "print(\"Checkpoint 1.6 passed\")\n"
   ]
  },
  {
   "cell_type": "markdown",
   "metadata": {},
   "source": [
    "**Exercise 1(e)**\n",
    "\n",
    "Repeat Exercise 1(d) with matrix $B$.\n",
    "\n",
    "If $B(y + \\Delta y) = b + \\Delta b$, where $By = b$ and $B,b,\\Delta b$ are all defined above, determine $\\Delta y$. Record your answer as the variable DY0 where DY0 has the value $\\| \\Delta y\\|$, where the norm is the 2-norm. \n",
    "\n",
    "Are the norms you computed in 1(d) and 1(e) smaller/larger than you expected, given the approximations of 1(b) and 1(c)?"
   ]
  },
  {
   "cell_type": "code",
   "execution_count": 142,
   "metadata": {
    "deletable": false,
    "nbgrader": {
     "cell_type": "code",
     "checksum": "62da5ba31eaefd18692c065711f92933",
     "grade": false,
     "grade_id": "cell-331a91b0e236edea",
     "locked": false,
     "schema_version": 3,
     "solution": true,
     "task": false
    }
   },
   "outputs": [
    {
     "data": {
      "text/plain": [
       "'Given the approximations of 1(b) and 1(c), and the fact that COND(B) is so much larger than, COND(A) the norms computed are in line with what I expected.'"
      ]
     },
     "execution_count": 142,
     "metadata": {},
     "output_type": "execute_result"
    }
   ],
   "source": [
    "# YOUR CODE HERE\n",
    "Binv = np.linalg.inv(B)\n",
    "n = Binv@deltab\n",
    "\n",
    "DY0=np.linalg.norm(n)\n",
    "#print(DY0)\n",
    "\"Given the approximations of 1(b) and 1(c), and the fact that COND(B) is so much larger than, COND(A) the norms computed are in line with what I expected.\"\n",
    "\n",
    "\n"
   ]
  },
  {
   "cell_type": "code",
   "execution_count": 143,
   "metadata": {
    "deletable": false,
    "editable": false,
    "nbgrader": {
     "cell_type": "code",
     "checksum": "6f8135676c42dd95677548d059882b4b",
     "grade": true,
     "grade_id": "cell-7306cad813689980",
     "locked": true,
     "points": 1,
     "schema_version": 3,
     "solution": false,
     "task": false
    }
   },
   "outputs": [
    {
     "name": "stdout",
     "output_type": "stream",
     "text": [
      "Checkpoint 1.8 passed\n"
     ]
    }
   ],
   "source": [
    "assert isinstance(DY0,float), \"Check that DY0 is the norm of a vector.\"\n",
    "print(\"Checkpoint 1.8 passed\")\n"
   ]
  },
  {
   "cell_type": "markdown",
   "metadata": {},
   "source": [
    "**Exercise 2(a)**\n",
    "\n",
    "Let $S$ be the set of points $\\{ (1,1),(4,-3),(7,9)\\}$. Let $T$ be the set of points $\\{(-9,10),(-4,2),(-2,2),(0,-2),(1,-3),(3,6),(8,12)\\}$. Let $V$ be the $3 \\times 3$ Vandermonde matrix corresponding to the polynomial interpolation of $S$. Similarly, let $W$ be the $7 \\times 7$ Vandermonde matrix corresponding to the polynomial interpolation of $T$. Determine the condition number of $V$ and $W$. Record your answer by setting the variable CONDV the condition number of $V$ and variable CONDW the condition number of $W$. \n",
    "\n",
    "Hint: You can input all the entries of $V,W$ yourself. OR you can call np.vander. Read the documentation online if you'd like to use this method, it is available at numpy.org. "
   ]
  },
  {
   "cell_type": "code",
   "execution_count": 144,
   "metadata": {
    "deletable": false,
    "nbgrader": {
     "cell_type": "code",
     "checksum": "43317b03a7325aca0364b493430ff804",
     "grade": false,
     "grade_id": "cell-20335f4b966d5806",
     "locked": false,
     "schema_version": 3,
     "solution": true,
     "task": false
    }
   },
   "outputs": [],
   "source": [
    "# YOUR CODE HERE\n",
    "s=np.array([1,4,7])\n",
    "S=np.vander(s, increasing = True)\n",
    "CONDV=np.linalg.cond(S)\n",
    "\n",
    "t=np.array([-9,-4,-2,0,1,3,8])\n",
    "T=np.vander(t, increasing = True)\n",
    "CONDW=np.linalg.cond(T)"
   ]
  },
  {
   "cell_type": "code",
   "execution_count": 145,
   "metadata": {
    "deletable": false,
    "editable": false,
    "nbgrader": {
     "cell_type": "code",
     "checksum": "6e09c15942bd83d2c25ebd716365be99",
     "grade": true,
     "grade_id": "cell-73fd181add0017a7",
     "locked": true,
     "points": 1,
     "schema_version": 3,
     "solution": false,
     "task": false
    }
   },
   "outputs": [
    {
     "name": "stdout",
     "output_type": "stream",
     "text": [
      "Hidden tests here\n"
     ]
    }
   ],
   "source": [
    "print('Hidden tests here')\n"
   ]
  },
  {
   "cell_type": "code",
   "execution_count": 146,
   "metadata": {
    "deletable": false,
    "editable": false,
    "nbgrader": {
     "cell_type": "code",
     "checksum": "ffa30ff59c265a264e7ffea67e7ade86",
     "grade": true,
     "grade_id": "cell-9c33a4354fc695af",
     "locked": true,
     "points": 1,
     "schema_version": 3,
     "solution": false,
     "task": false
    }
   },
   "outputs": [
    {
     "name": "stdout",
     "output_type": "stream",
     "text": [
      "Hidden tests here\n"
     ]
    }
   ],
   "source": [
    "print('Hidden tests here')\n"
   ]
  },
  {
   "cell_type": "markdown",
   "metadata": {},
   "source": [
    "**Exercise 2(b)**\n",
    "\n",
    "Let $S$ and $T$ be as above. Let $M$ be the lower triangular matrix corresponding to the Newton interpolation method on the set $S$. Similarly, let $N$ be the lower triangular matrix corresponding to the Newton interpolation method on the set $T$. Determine the condition number of $M$ and $N$. Record your answer by setting the variable CONDM the condition number of $M$ and variable CONDN the condition number of $N$. \n",
    "\n",
    "As a way of checking your answers, you should find that the condition numbers using the Newton interpolation method are smaller than the Vandermonde method. \n"
   ]
  },
  {
   "cell_type": "code",
   "execution_count": 147,
   "metadata": {
    "deletable": false,
    "nbgrader": {
     "cell_type": "code",
     "checksum": "0c56e5e74c305cdec230a4be6db668ef",
     "grade": false,
     "grade_id": "cell-48d376262759f152",
     "locked": false,
     "schema_version": 3,
     "solution": true,
     "task": false
    }
   },
   "outputs": [],
   "source": [
    "# YOUR CODE HERE\n",
    "M = np.array([[1,0,0],[1,3,0],[1,6,18]])\n",
    "CONDM = np.linalg.cond(M)\n",
    "\n",
    "N = np.array([[1,0,0,0,0,0,0],[1,5,0,0,0,0,0],[1,7,14,0,0,0,0],[1,9,36,72,0,0,0],[1,10,50,150,150,0,0],[1,12,84,420,1260,2520,0],[1,17,204,2040,16320,114240,571200]])\n",
    "CONDN = np.linalg.cond(N)\n",
    "\n",
    "#print CONDM\n",
    "#print CONDN"
   ]
  },
  {
   "cell_type": "code",
   "execution_count": 148,
   "metadata": {
    "deletable": false,
    "editable": false,
    "nbgrader": {
     "cell_type": "code",
     "checksum": "b42576a2d436eb3cc4c95d774e19011e",
     "grade": true,
     "grade_id": "cell-a02f16bcedd42ffe",
     "locked": true,
     "points": 1,
     "schema_version": 3,
     "solution": false,
     "task": false
    }
   },
   "outputs": [
    {
     "name": "stdout",
     "output_type": "stream",
     "text": [
      "Hidden tests here\n"
     ]
    }
   ],
   "source": [
    "print('Hidden tests here')\n"
   ]
  },
  {
   "cell_type": "code",
   "execution_count": 149,
   "metadata": {
    "deletable": false,
    "editable": false,
    "nbgrader": {
     "cell_type": "code",
     "checksum": "e3dbce77646d8f2c34404e0170dd7bb3",
     "grade": true,
     "grade_id": "cell-e1f6ed9d1c5be1f1",
     "locked": true,
     "points": 1,
     "schema_version": 3,
     "solution": false,
     "task": false
    }
   },
   "outputs": [
    {
     "name": "stdout",
     "output_type": "stream",
     "text": [
      "Hidden tests here\n"
     ]
    }
   ],
   "source": [
    "print('Hidden tests here')\n"
   ]
  },
  {
   "cell_type": "markdown",
   "metadata": {},
   "source": [
    "**Exercise 2(c)** \n",
    "\n",
    "Let's learn to plot things! The remainder of this assignment isn't for marks, so no stress.\n",
    "\n",
    "First lets see how to plot the pointsets $S$ and $T$. \n",
    "\n",
    "The commands are shown in the next two cells. The function plt.plot is taking a list of x-values for its first arguument, the corresponding y-values for its second, and the type of points to display as its third. In the next cell 'ro' means red circle. Whereas in the following 'bs' is a blue square. \n",
    "\n"
   ]
  },
  {
   "cell_type": "code",
   "execution_count": 150,
   "metadata": {},
   "outputs": [
    {
     "data": {
      "image/png": "[encoded data removed]",
      "text/plain": [
       "<Figure size 432x288 with 1 Axes>"
      ]
     },
     "metadata": {
      "needs_background": "light"
     },
     "output_type": "display_data"
    }
   ],
   "source": [
    "plt.plot([1, 4,7], [1,-3,9], 'ro')\n",
    "plt.axis([0,8,-4,10])\n",
    "plt.show()"
   ]
  },
  {
   "cell_type": "code",
   "execution_count": 151,
   "metadata": {},
   "outputs": [
    {
     "data": {
      "image/png": "[encoded data removed]",
      "text/plain": [
       "<Figure size 432x288 with 1 Axes>"
      ]
     },
     "metadata": {
      "needs_background": "light"
     },
     "output_type": "display_data"
    }
   ],
   "source": [
    "plt.plot([-9,-4,-2,0,1,3,8], [10,2,2,-2,-3,6,12], 'bs')\n",
    "plt.axis([-10,14,-4,14])\n",
    "plt.show()"
   ]
  },
  {
   "cell_type": "markdown",
   "metadata": {},
   "source": [
    "Now we must also plot the graphs of the polynomials. For the set S, the polynomial is degree 2, say it is given by $f(x) = c_0 + c_1 x + c_2x^2$. Then we know \n",
    "\n",
    "$$ V \\begin{pmatrix} c_0 \\\\ c_1 \\\\ c_2 \\end{pmatrix} = \\begin{pmatrix} 1 \\\\ -3 \\\\ 9 \\end{pmatrix} .$$\n",
    "\n",
    "And so we use np.linalg.solve to find the $c_i$. (Done in the following cell)"
   ]
  },
  {
   "cell_type": "code",
   "execution_count": 152,
   "metadata": {},
   "outputs": [
    {
     "ename": "NameError",
     "evalue": "name 'V' is not defined",
     "output_type": "error",
     "traceback": [
      "\u001b[0;31m---------------------------------------------------------------------------\u001b[0m",
      "\u001b[0;31mNameError\u001b[0m                                 Traceback (most recent call last)",
      "\u001b[0;32m<ipython-input-152-78f97edce409>\u001b[0m in \u001b[0;36m<module>\u001b[0;34m\u001b[0m\n\u001b[0;32m----> 1\u001b[0;31m \u001b[0mc\u001b[0m \u001b[0;34m=\u001b[0m \u001b[0mnp\u001b[0m\u001b[0;34m.\u001b[0m\u001b[0mlinalg\u001b[0m\u001b[0;34m.\u001b[0m\u001b[0msolve\u001b[0m\u001b[0;34m(\u001b[0m\u001b[0mV\u001b[0m\u001b[0;34m,\u001b[0m\u001b[0mnp\u001b[0m\u001b[0;34m.\u001b[0m\u001b[0marray\u001b[0m\u001b[0;34m(\u001b[0m\u001b[0;34m[\u001b[0m\u001b[0;34m[\u001b[0m\u001b[0;36m1\u001b[0m\u001b[0;34m]\u001b[0m\u001b[0;34m,\u001b[0m\u001b[0;34m[\u001b[0m\u001b[0;34m-\u001b[0m\u001b[0;36m3\u001b[0m\u001b[0;34m]\u001b[0m\u001b[0;34m,\u001b[0m\u001b[0;34m[\u001b[0m\u001b[0;36m9\u001b[0m\u001b[0;34m]\u001b[0m\u001b[0;34m]\u001b[0m\u001b[0;34m)\u001b[0m\u001b[0;34m)\u001b[0m\u001b[0;34m\u001b[0m\u001b[0;34m\u001b[0m\u001b[0m\n\u001b[0m\u001b[1;32m      2\u001b[0m \u001b[0mc\u001b[0m\u001b[0;34m\u001b[0m\u001b[0;34m\u001b[0m\u001b[0m\n",
      "\u001b[0;31mNameError\u001b[0m: name 'V' is not defined"
     ]
    }
   ],
   "source": [
    "c = np.linalg.solve(V,np.array([[1],[-3],[9]]))\n",
    "c"
   ]
  },
  {
   "cell_type": "markdown",
   "metadata": {},
   "source": [
    "Now in the following cell we first make our own python function that given a number input representing an x-value, returns the interpolation polynomial's value at the input. Then we make a set of values for which we'll evaluate the function, this is t1. The 0.5,7.5 is the start and end of the range, while 0.1 is the increment. "
   ]
  },
  {
   "cell_type": "code",
   "execution_count": 153,
   "metadata": {},
   "outputs": [
    {
     "ename": "NameError",
     "evalue": "name 'c' is not defined",
     "output_type": "error",
     "traceback": [
      "\u001b[0;31m---------------------------------------------------------------------------\u001b[0m",
      "\u001b[0;31mNameError\u001b[0m                                 Traceback (most recent call last)",
      "\u001b[0;32m<ipython-input-153-6587edd0e7e1>\u001b[0m in \u001b[0;36m<module>\u001b[0;34m\u001b[0m\n\u001b[1;32m      4\u001b[0m \u001b[0mt1\u001b[0m \u001b[0;34m=\u001b[0m \u001b[0mnp\u001b[0m\u001b[0;34m.\u001b[0m\u001b[0marange\u001b[0m\u001b[0;34m(\u001b[0m\u001b[0;36m0.5\u001b[0m\u001b[0;34m,\u001b[0m \u001b[0;36m7.5\u001b[0m\u001b[0;34m,\u001b[0m \u001b[0;36m0.1\u001b[0m\u001b[0;34m)\u001b[0m\u001b[0;34m\u001b[0m\u001b[0;34m\u001b[0m\u001b[0m\n\u001b[1;32m      5\u001b[0m \u001b[0;34m\u001b[0m\u001b[0m\n\u001b[0;32m----> 6\u001b[0;31m \u001b[0mplt\u001b[0m\u001b[0;34m.\u001b[0m\u001b[0mplot\u001b[0m\u001b[0;34m(\u001b[0m\u001b[0mt1\u001b[0m\u001b[0;34m,\u001b[0m \u001b[0mpolyS\u001b[0m\u001b[0;34m(\u001b[0m\u001b[0mt1\u001b[0m\u001b[0;34m)\u001b[0m\u001b[0;34m,\u001b[0m\u001b[0;34m[\u001b[0m\u001b[0;36m1\u001b[0m\u001b[0;34m,\u001b[0m \u001b[0;36m4\u001b[0m\u001b[0;34m,\u001b[0m\u001b[0;36m7\u001b[0m\u001b[0;34m]\u001b[0m\u001b[0;34m,\u001b[0m \u001b[0;34m[\u001b[0m\u001b[0;36m1\u001b[0m\u001b[0;34m,\u001b[0m\u001b[0;34m-\u001b[0m\u001b[0;36m3\u001b[0m\u001b[0;34m,\u001b[0m\u001b[0;36m9\u001b[0m\u001b[0;34m]\u001b[0m\u001b[0;34m,\u001b[0m \u001b[0;34m'ro'\u001b[0m\u001b[0;34m)\u001b[0m\u001b[0;34m\u001b[0m\u001b[0;34m\u001b[0m\u001b[0m\n\u001b[0m\u001b[1;32m      7\u001b[0m \u001b[0mplt\u001b[0m\u001b[0;34m.\u001b[0m\u001b[0mshow\u001b[0m\u001b[0;34m(\u001b[0m\u001b[0;34m)\u001b[0m\u001b[0;34m\u001b[0m\u001b[0;34m\u001b[0m\u001b[0m\n\u001b[1;32m      8\u001b[0m \u001b[0;34m\u001b[0m\u001b[0m\n",
      "\u001b[0;32m<ipython-input-153-6587edd0e7e1>\u001b[0m in \u001b[0;36mpolyS\u001b[0;34m(t)\u001b[0m\n\u001b[1;32m      1\u001b[0m \u001b[0;32mdef\u001b[0m \u001b[0mpolyS\u001b[0m\u001b[0;34m(\u001b[0m\u001b[0mt\u001b[0m\u001b[0;34m)\u001b[0m\u001b[0;34m:\u001b[0m\u001b[0;34m\u001b[0m\u001b[0;34m\u001b[0m\u001b[0m\n\u001b[0;32m----> 2\u001b[0;31m     \u001b[0;32mreturn\u001b[0m \u001b[0mc\u001b[0m\u001b[0;34m[\u001b[0m\u001b[0;36m0\u001b[0m\u001b[0;34m]\u001b[0m \u001b[0;34m+\u001b[0m \u001b[0mc\u001b[0m\u001b[0;34m[\u001b[0m\u001b[0;36m1\u001b[0m\u001b[0;34m]\u001b[0m\u001b[0;34m*\u001b[0m\u001b[0mt\u001b[0m \u001b[0;34m+\u001b[0m \u001b[0mc\u001b[0m\u001b[0;34m[\u001b[0m\u001b[0;36m2\u001b[0m\u001b[0;34m]\u001b[0m\u001b[0;34m*\u001b[0m \u001b[0mt\u001b[0m\u001b[0;34m**\u001b[0m\u001b[0;36m2\u001b[0m\u001b[0;34m\u001b[0m\u001b[0;34m\u001b[0m\u001b[0m\n\u001b[0m\u001b[1;32m      3\u001b[0m \u001b[0;34m\u001b[0m\u001b[0m\n\u001b[1;32m      4\u001b[0m \u001b[0mt1\u001b[0m \u001b[0;34m=\u001b[0m \u001b[0mnp\u001b[0m\u001b[0;34m.\u001b[0m\u001b[0marange\u001b[0m\u001b[0;34m(\u001b[0m\u001b[0;36m0.5\u001b[0m\u001b[0;34m,\u001b[0m \u001b[0;36m7.5\u001b[0m\u001b[0;34m,\u001b[0m \u001b[0;36m0.1\u001b[0m\u001b[0;34m)\u001b[0m\u001b[0;34m\u001b[0m\u001b[0;34m\u001b[0m\u001b[0m\n\u001b[1;32m      5\u001b[0m \u001b[0;34m\u001b[0m\u001b[0m\n",
      "\u001b[0;31mNameError\u001b[0m: name 'c' is not defined"
     ]
    }
   ],
   "source": [
    "def polyS(t):\n",
    "    return c[0] + c[1]*t + c[2]* t**2\n",
    "\n",
    "t1 = np.arange(0.5, 7.5, 0.1)\n",
    "\n",
    "plt.plot(t1, polyS(t1),[1, 4,7], [1,-3,9], 'ro')\n",
    "plt.show()\n",
    "\n"
   ]
  },
  {
   "cell_type": "markdown",
   "metadata": {},
   "source": [
    "Now lets do this for $T$. For the set $T$, the polynomial is degree 6, say it is given by $f(x) = d_0 + d_1 x +...+ c_6x^6$. Then we know \n",
    "\n",
    "$$ W \\begin{pmatrix} d_0 \\\\ d_1 \\\\ d_2 \\\\ d_3 \\\\ d_4 \\\\ d_5 \\\\ d_6 \\end{pmatrix} = \\begin{pmatrix} 10 \\\\ 2 \\\\ 2 \\\\ -2 \\\\ -3 \\\\ 6 \\\\ 12 \\end{pmatrix} .$$\n",
    "\n",
    "And so we use np.linalg.solve to find the $d_i$. (Done in the following cell)"
   ]
  },
  {
   "cell_type": "code",
   "execution_count": 154,
   "metadata": {},
   "outputs": [
    {
     "ename": "NameError",
     "evalue": "name 'W' is not defined",
     "output_type": "error",
     "traceback": [
      "\u001b[0;31m---------------------------------------------------------------------------\u001b[0m",
      "\u001b[0;31mNameError\u001b[0m                                 Traceback (most recent call last)",
      "\u001b[0;32m<ipython-input-154-14de8aa0fffc>\u001b[0m in \u001b[0;36m<module>\u001b[0;34m\u001b[0m\n\u001b[0;32m----> 1\u001b[0;31m \u001b[0md\u001b[0m \u001b[0;34m=\u001b[0m \u001b[0mnp\u001b[0m\u001b[0;34m.\u001b[0m\u001b[0mlinalg\u001b[0m\u001b[0;34m.\u001b[0m\u001b[0msolve\u001b[0m\u001b[0;34m(\u001b[0m\u001b[0mW\u001b[0m\u001b[0;34m,\u001b[0m\u001b[0mnp\u001b[0m\u001b[0;34m.\u001b[0m\u001b[0marray\u001b[0m\u001b[0;34m(\u001b[0m\u001b[0;34m[\u001b[0m\u001b[0;34m[\u001b[0m\u001b[0;36m10\u001b[0m\u001b[0;34m]\u001b[0m\u001b[0;34m,\u001b[0m\u001b[0;34m[\u001b[0m\u001b[0;36m2\u001b[0m\u001b[0;34m]\u001b[0m\u001b[0;34m,\u001b[0m\u001b[0;34m[\u001b[0m\u001b[0;36m2\u001b[0m\u001b[0;34m]\u001b[0m\u001b[0;34m,\u001b[0m\u001b[0;34m[\u001b[0m\u001b[0;34m-\u001b[0m\u001b[0;36m2\u001b[0m\u001b[0;34m]\u001b[0m\u001b[0;34m,\u001b[0m\u001b[0;34m[\u001b[0m\u001b[0;34m-\u001b[0m\u001b[0;36m3\u001b[0m\u001b[0;34m]\u001b[0m\u001b[0;34m,\u001b[0m\u001b[0;34m[\u001b[0m\u001b[0;36m6\u001b[0m\u001b[0;34m]\u001b[0m\u001b[0;34m,\u001b[0m\u001b[0;34m[\u001b[0m\u001b[0;36m12\u001b[0m\u001b[0;34m]\u001b[0m\u001b[0;34m]\u001b[0m\u001b[0;34m)\u001b[0m\u001b[0;34m)\u001b[0m\u001b[0;34m\u001b[0m\u001b[0;34m\u001b[0m\u001b[0m\n\u001b[0m\u001b[1;32m      2\u001b[0m \u001b[0md\u001b[0m\u001b[0;34m\u001b[0m\u001b[0;34m\u001b[0m\u001b[0m\n",
      "\u001b[0;31mNameError\u001b[0m: name 'W' is not defined"
     ]
    }
   ],
   "source": [
    "d = np.linalg.solve(W,np.array([[10],[2],[2],[-2],[-3],[6],[12]]))\n",
    "d"
   ]
  },
  {
   "cell_type": "markdown",
   "metadata": {},
   "source": [
    "Now we do just about the same thing as before! (except with $T$ now)"
   ]
  },
  {
   "cell_type": "code",
   "execution_count": null,
   "metadata": {},
   "outputs": [],
   "source": [
    "def polyT(t):\n",
    "    return d[0] + d[1]*t + d[2]* t**2 + d[3]* t**3 + d[4]*t**4 + d[5]*t**5 + d[6]*t**6\n",
    "\n",
    "t2 = np.arange(-10, 8.5, 0.1)\n",
    "\n",
    "plt.plot(t2, polyT(t2),[-9,-4,-2,0,1,3,8], [10,2,2,-2,-3,6,12], 'bs')\n",
    "plt.show()\n",
    "\n"
   ]
  },
  {
   "cell_type": "markdown",
   "metadata": {},
   "source": [
    "We can also now see how the Vandermonde interpolation method responds to a little error. Currently our data set is $\\{(-9,10),(-4,2),(-2,2),(0,-2),(1,-3),(3,6),(8,12)\\}$. Lets modify this by adding a number from $\\{-2,-1,0,1,2\\}$ to all the $y$-coordinates. We can use python to do this pseudorandomly. The below cell does this, each time you run it, you will get a slightly different altered list of y-coordinates, called Ty_err. "
   ]
  },
  {
   "cell_type": "code",
   "execution_count": null,
   "metadata": {},
   "outputs": [],
   "source": [
    "import random\n",
    "\n",
    "Ty = [10,2,2,-2,-3,6,12]\n",
    "\n",
    "Ty_err = []\n",
    "for i in Ty:\n",
    "    x = i + random.randint(-2,2)\n",
    "    Ty_err.append([x])\n",
    "    \n",
    "Ty_err\n",
    "\n"
   ]
  },
  {
   "cell_type": "markdown",
   "metadata": {},
   "source": [
    "Now we can do the same as before and interpolate. "
   ]
  },
  {
   "cell_type": "code",
   "execution_count": null,
   "metadata": {},
   "outputs": [],
   "source": [
    "d_err = np.linalg.solve(W,np.array(Ty_err))\n",
    "d_err"
   ]
  },
  {
   "cell_type": "code",
   "execution_count": null,
   "metadata": {},
   "outputs": [],
   "source": [
    "def polyTe(t):\n",
    "    val = 0\n",
    "    for i in range(len(d_err)):\n",
    "        val += d_err[i][0]*t**i\n",
    "    return val\n",
    "\n",
    "t2 = np.arange(-10, 8.5, 0.1)\n",
    "\n",
    "plt.plot(t2, polyTe(t2),[-9,-4,-2,0,1,3,8], [10,2,2,-2,-3,6,12], 'bs',[-9,-4,-2,0,1,3,8],Ty_err,'ro')\n",
    "plt.show()\n",
    "\n"
   ]
  },
  {
   "cell_type": "markdown",
   "metadata": {},
   "source": [
    "The above plot includes the new interpolating polynomial in blue, the old point set $T$ as blue squares, and the new point set as red circles. You will likely see that the point sets are not very different, but the shape of the polynomial has changed considerably. "
   ]
  },
  {
   "cell_type": "markdown",
   "metadata": {},
   "source": [
    "As a fun excuse to use more python, we can plot the condition number of Vandermonde matrices as the number of entries increases. Lets plot the condition number of the Vandermonde matricies when the set of x-inputs is $\\{1,2,3,...,n\\}$."
   ]
  },
  {
   "cell_type": "code",
   "execution_count": null,
   "metadata": {},
   "outputs": [],
   "source": [
    "xset = [1,2,3,4,5,6,7,8]\n",
    "yset = []\n",
    "\n",
    "for n in xset:\n",
    "    v = np.array(list(range(1,n+1)))\n",
    "    Vn = np.vander(v,increasing = True)\n",
    "    condv = np.linalg.cond(Vn)\n",
    "    yset.append(condv)\n",
    "    \n",
    "plt.plot(xset,yset, 'bs')\n",
    "plt.show()\n",
    "\n",
    "\n",
    "\n",
    "\n"
   ]
  },
  {
   "cell_type": "markdown",
   "metadata": {},
   "source": [
    "As you can see, the condition number jumps up very quickly at the end! You can try re-running the cell above with a different initial xset. For starters, you can just add 9 at the end, i.e. xset = [1,2,3,4,5,6,7,8,9]. "
   ]
  }
 ],
 "metadata": {
  "kernelspec": {
   "display_name": "Python 3",
   "language": "python",
   "name": "python3"
  },
  "language_info": {
   "codemirror_mode": {
    "name": "ipython",
    "version": 3
   },
   "file_extension": ".py",
   "mimetype": "text/x-python",
   "name": "python",
   "nbconvert_exporter": "python",
   "pygments_lexer": "ipython3",
   "version": "3.8.6"
  }
 },
 "nbformat": 4,
 "nbformat_minor": 4
}
